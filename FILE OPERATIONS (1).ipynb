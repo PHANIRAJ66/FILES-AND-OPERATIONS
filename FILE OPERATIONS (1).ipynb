{
 "cells": [
  {
   "cell_type": "code",
   "execution_count": 1,
   "metadata": {},
   "outputs": [],
   "source": [
    "#WRITING MODE\n",
    "f = open(\"‪cslab.txt\",'w') \n",
    "f.write(\"Python Programming\")\n",
    "f.close()"
   ]
  },
  {
   "cell_type": "code",
   "execution_count": 2,
   "metadata": {},
   "outputs": [],
   "source": [
    "lines=[\"Hello world.\\n\", \"Welcome to YouTube.\\n\"]\n",
    "f=open(\"cslab.txt\",\"w\")\n",
    "f.writelines(lines)\n",
    "f.close()"
   ]
  },
  {
   "cell_type": "code",
   "execution_count": 3,
   "metadata": {},
   "outputs": [],
   "source": [
    "#APPENDING AND READING\n",
    "f=open(\"cslab.txt\",\"a+\")\n",
    "f.write(\"Appending a file.\")\n",
    "line=f.readline()\n",
    "f.close()"
   ]
  },
  {
   "cell_type": "code",
   "execution_count": 4,
   "metadata": {},
   "outputs": [
    {
     "name": "stdout",
     "output_type": "stream",
     "text": [
      "Hello world.\n",
      "\n"
     ]
    }
   ],
   "source": [
    "# READING A FILE\n",
    "f=open(\"cslab.txt\",\"r\")\n",
    "line=f.readline()\n",
    "print(line)\n",
    "f.close()"
   ]
  },
  {
   "cell_type": "code",
   "execution_count": 5,
   "metadata": {},
   "outputs": [
    {
     "name": "stdout",
     "output_type": "stream",
     "text": [
      "world.\n",
      "\n",
      "Welcome to YouTube.\n",
      "\n",
      "Appending a file.\n"
     ]
    }
   ],
   "source": [
    "#READING AND WRITING\n",
    "f=open(\"cslab.txt\",\"r+\")\n",
    "f.seek(6,0)\n",
    "lines=f.readlines()\n",
    "for line in lines:\n",
    "    print(line)\n",
    "f.close()"
   ]
  },
  {
   "cell_type": "code",
   "execution_count": 6,
   "metadata": {},
   "outputs": [],
   "source": [
    "#writing a binary file\n",
    "f=open(\"binfile.bin\",\"wb\")\n",
    "num=[100, 110, 115, 120, 125]\n",
    "arr=bytearray(num)\n",
    "f.write(arr)\n",
    "f.close()"
   ]
  },
  {
   "cell_type": "code",
   "execution_count": 7,
   "metadata": {},
   "outputs": [
    {
     "name": "stdout",
     "output_type": "stream",
     "text": [
      "[100, 110, 115, 120, 125]\n"
     ]
    }
   ],
   "source": [
    "f=open(\"binfile.bin\",\"rb\")\n",
    "num=list(f.read())\n",
    "print (num)\n",
    "f.close()"
   ]
  },
  {
   "cell_type": "code",
   "execution_count": null,
   "metadata": {},
   "outputs": [],
   "source": []
  }
 ],
 "metadata": {
  "kernelspec": {
   "display_name": "Python 3",
   "language": "python",
   "name": "python3"
  },
  "language_info": {
   "codemirror_mode": {
    "name": "ipython",
    "version": 3
   },
   "file_extension": ".py",
   "mimetype": "text/x-python",
   "name": "python",
   "nbconvert_exporter": "python",
   "pygments_lexer": "ipython3",
   "version": "3.8.3"
  }
 },
 "nbformat": 4,
 "nbformat_minor": 4
}
